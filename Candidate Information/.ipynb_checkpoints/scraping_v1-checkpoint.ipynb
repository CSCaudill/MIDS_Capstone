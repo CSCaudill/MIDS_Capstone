{
 "cells": [
  {
   "cell_type": "code",
   "execution_count": 1,
   "metadata": {
    "collapsed": false
   },
   "outputs": [
    {
     "name": "stdout",
     "output_type": "stream",
     "text": [
      "Collecting BeautifulSoup\n",
      "  Downloading BeautifulSoup-3.2.1.tar.gz\n",
      "Building wheels for collected packages: BeautifulSoup\n",
      "  Running setup.py bdist_wheel for BeautifulSoup: started\n",
      "  Running setup.py bdist_wheel for BeautifulSoup: finished with status 'done'\n",
      "  Stored in directory: C:\\Users\\kowen\\AppData\\Local\\pip\\Cache\\wheels\\5e\\be\\6d\\ed01d5d434a821557b674c9da976f60b1b93d9009447eb9d16\n",
      "Successfully built BeautifulSoup\n",
      "Installing collected packages: BeautifulSoup\n",
      "Successfully installed BeautifulSoup-3.2.1\n",
      "Requirement already satisfied: Requests in c:\\users\\kowen\\appdata\\local\\continuum\\anaconda2\\lib\\site-packages\n"
     ]
    }
   ],
   "source": [
    "!pip install BeautifulSoup\n",
    "!pip install Requests"
   ]
  },
  {
   "cell_type": "markdown",
   "metadata": {},
   "source": [
    "tutorial link: web scraping: http://first-web-scraper.readthedocs.io/en/latest/#act-3-web-scraping"
   ]
  },
  {
   "cell_type": "code",
   "execution_count": null,
   "metadata": {
    "collapsed": true
   },
   "outputs": [],
   "source": []
  }
 ],
 "metadata": {
  "kernelspec": {
   "display_name": "Python [Root]",
   "language": "python",
   "name": "Python [Root]"
  },
  "language_info": {
   "codemirror_mode": {
    "name": "ipython",
    "version": 2
   },
   "file_extension": ".py",
   "mimetype": "text/x-python",
   "name": "python",
   "nbconvert_exporter": "python",
   "pygments_lexer": "ipython2",
   "version": "2.7.12"
  }
 },
 "nbformat": 4,
 "nbformat_minor": 2
}
